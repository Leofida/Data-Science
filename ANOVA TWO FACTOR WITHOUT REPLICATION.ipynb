{
 "cells": [
  {
   "cell_type": "code",
   "execution_count": 1,
   "metadata": {},
   "outputs": [],
   "source": [
    "import pandas as pd\n",
    "import numpy as np\n",
    "import statistics as st\n",
    "import scipy.stats as stats"
   ]
  },
  {
   "cell_type": "markdown",
   "metadata": {},
   "source": [
    "# ANOVA TWO FACTOR - WITHOUT REPLICATION - ANALYSIS OF VARIANCE"
   ]
  },
  {
   "cell_type": "markdown",
   "metadata": {},
   "source": [
    "## Input variables:"
   ]
  },
  {
   "cell_type": "code",
   "execution_count": 2,
   "metadata": {},
   "outputs": [
    {
     "data": {
      "text/html": [
       "<div>\n",
       "<style scoped>\n",
       "    .dataframe tbody tr th:only-of-type {\n",
       "        vertical-align: middle;\n",
       "    }\n",
       "\n",
       "    .dataframe tbody tr th {\n",
       "        vertical-align: top;\n",
       "    }\n",
       "\n",
       "    .dataframe thead th {\n",
       "        text-align: right;\n",
       "    }\n",
       "</style>\n",
       "<table border=\"1\" class=\"dataframe\">\n",
       "  <thead>\n",
       "    <tr style=\"text-align: right;\">\n",
       "      <th></th>\n",
       "      <th>2%_disc</th>\n",
       "      <th>1%_disc</th>\n",
       "      <th>NO_disc</th>\n",
       "    </tr>\n",
       "  </thead>\n",
       "  <tbody>\n",
       "    <tr>\n",
       "      <th>$50</th>\n",
       "      <td>16</td>\n",
       "      <td>23</td>\n",
       "      <td>21</td>\n",
       "    </tr>\n",
       "    <tr>\n",
       "      <th>$100</th>\n",
       "      <td>14</td>\n",
       "      <td>21</td>\n",
       "      <td>16</td>\n",
       "    </tr>\n",
       "    <tr>\n",
       "      <th>$150</th>\n",
       "      <td>11</td>\n",
       "      <td>16</td>\n",
       "      <td>18</td>\n",
       "    </tr>\n",
       "    <tr>\n",
       "      <th>$200</th>\n",
       "      <td>10</td>\n",
       "      <td>15</td>\n",
       "      <td>14</td>\n",
       "    </tr>\n",
       "    <tr>\n",
       "      <th>$250</th>\n",
       "      <td>9</td>\n",
       "      <td>10</td>\n",
       "      <td>11</td>\n",
       "    </tr>\n",
       "  </tbody>\n",
       "</table>\n",
       "</div>"
      ],
      "text/plain": [
       "      2%_disc  1%_disc  NO_disc\n",
       "$50        16       23       21\n",
       "$100       14       21       16\n",
       "$150       11       16       18\n",
       "$200       10       15       14\n",
       "$250        9       10       11"
      ]
     },
     "execution_count": 2,
     "metadata": {},
     "output_type": "execute_result"
    }
   ],
   "source": [
    "alpha=0.05\n",
    "list_index=['$50','$100','$150','$200','$250']\n",
    "dic={'2%_disc':[16,14,11,10,9],'1%_disc':[23,21,16,15,10],'NO_disc':[21,16,18,14,11]}\n",
    "n_groups=len(dic)\n",
    "data=pd.DataFrame(dic,index=list_index)\n",
    "data"
   ]
  },
  {
   "cell_type": "markdown",
   "metadata": {},
   "source": [
    "## Hypotheses:"
   ]
  },
  {
   "cell_type": "markdown",
   "metadata": {},
   "source": [
    "## Ho: all samples come from same population"
   ]
  },
  {
   "cell_type": "markdown",
   "metadata": {},
   "source": [
    "## H1: at least 1 sample comes from a different population"
   ]
  },
  {
   "cell_type": "markdown",
   "metadata": {},
   "source": [
    "## Calculations:"
   ]
  },
  {
   "cell_type": "code",
   "execution_count": 3,
   "metadata": {},
   "outputs": [
    {
     "name": "stdout",
     "output_type": "stream",
     "text": [
      "Result: Reject Ho\n"
     ]
    },
    {
     "name": "stderr",
     "output_type": "stream",
     "text": [
      "C:\\Users\\Leonardo\\anaconda3\\lib\\site-packages\\pandas\\core\\indexing.py:670: SettingWithCopyWarning: \n",
      "A value is trying to be set on a copy of a slice from a DataFrame\n",
      "\n",
      "See the caveats in the documentation: https://pandas.pydata.org/pandas-docs/stable/user_guide/indexing.html#returning-a-view-versus-a-copy\n",
      "  iloc._setitem_with_indexer(indexer, value)\n"
     ]
    }
   ],
   "source": [
    "data['mean_block']=0\n",
    "for i in range(len(data)):\n",
    "    for j in range(len(data.columns)-1):\n",
    "        data['mean_block'].iloc[i]=data['mean_block'].iloc[i]+data.iloc[i,j]\n",
    "    data['mean_block'].iloc[i]=data['mean_block'].iloc[i]/(len(data.columns)-1)\n",
    "mean=[]\n",
    "for i in range(len(data.columns)-1):\n",
    "    mean.append(np.mean(data.iloc[:,i]))\n",
    "over_mean=st.mean(mean)\n",
    "SSG=0\n",
    "for i in range(len(mean)):\n",
    "    SSG=SSG+(mean[i]-over_mean)**2\n",
    "SSG=SSG*len(data['2%_disc'])\n",
    "df_groups=len(data.columns)-2\n",
    "SSB=0\n",
    "for i in range(len(data)):\n",
    "    SSB=SSB+(data['mean_block'].iloc[i]-over_mean)**2\n",
    "SSB=SSB*n_groups\n",
    "SST=0\n",
    "for i in range(len(data)):\n",
    "    for j in range(len(data.columns)-1):\n",
    "        SST=SST+(data.iloc[i,j]-over_mean)**2\n",
    "SSE=SST-SSG-SSB\n",
    "df_error=(len(data)-1)*(n_groups-1)\n",
    "F=(SSG/df_groups)/(SSE/df_error)\n",
    "F\n",
    "F_critical=stats.f.ppf(1-alpha,dfn=df_groups,dfd=df_error)\n",
    "if F<F_critical:\n",
    "    print('Result: Fail to reject Ho')\n",
    "else:\n",
    "    print('Result: Reject Ho')"
   ]
  }
 ],
 "metadata": {
  "kernelspec": {
   "display_name": "Python 3",
   "language": "python",
   "name": "python3"
  },
  "language_info": {
   "codemirror_mode": {
    "name": "ipython",
    "version": 3
   },
   "file_extension": ".py",
   "mimetype": "text/x-python",
   "name": "python",
   "nbconvert_exporter": "python",
   "pygments_lexer": "ipython3",
   "version": "3.8.5"
  }
 },
 "nbformat": 4,
 "nbformat_minor": 4
}
