{
 "cells": [
  {
   "cell_type": "code",
   "execution_count": 1,
   "metadata": {},
   "outputs": [],
   "source": [
    "import pandas as pd\n",
    "import numpy as np\n",
    "import statistics as st\n",
    "import scipy.stats as stats"
   ]
  },
  {
   "cell_type": "markdown",
   "metadata": {},
   "source": [
    "# ANOVA TWO FACTOR - WITH REPLICATION - ANALYSIS OF VARIANCE"
   ]
  },
  {
   "cell_type": "markdown",
   "metadata": {},
   "source": [
    "## Input variables:"
   ]
  },
  {
   "cell_type": "code",
   "execution_count": 2,
   "metadata": {},
   "outputs": [
    {
     "data": {
      "text/html": [
       "<div>\n",
       "<style scoped>\n",
       "    .dataframe tbody tr th:only-of-type {\n",
       "        vertical-align: middle;\n",
       "    }\n",
       "\n",
       "    .dataframe tbody tr th {\n",
       "        vertical-align: top;\n",
       "    }\n",
       "\n",
       "    .dataframe thead th {\n",
       "        text-align: right;\n",
       "    }\n",
       "</style>\n",
       "<table border=\"1\" class=\"dataframe\">\n",
       "  <thead>\n",
       "    <tr style=\"text-align: right;\">\n",
       "      <th></th>\n",
       "      <th>A</th>\n",
       "      <th>B</th>\n",
       "      <th>C</th>\n",
       "    </tr>\n",
       "  </thead>\n",
       "  <tbody>\n",
       "    <tr>\n",
       "      <th>Block1</th>\n",
       "      <td>13</td>\n",
       "      <td>21</td>\n",
       "      <td>18</td>\n",
       "    </tr>\n",
       "    <tr>\n",
       "      <th>Block1</th>\n",
       "      <td>14</td>\n",
       "      <td>19</td>\n",
       "      <td>15</td>\n",
       "    </tr>\n",
       "    <tr>\n",
       "      <th>Block1</th>\n",
       "      <td>12</td>\n",
       "      <td>17</td>\n",
       "      <td>15</td>\n",
       "    </tr>\n",
       "    <tr>\n",
       "      <th>Block2</th>\n",
       "      <td>16</td>\n",
       "      <td>14</td>\n",
       "      <td>15</td>\n",
       "    </tr>\n",
       "    <tr>\n",
       "      <th>Block2</th>\n",
       "      <td>18</td>\n",
       "      <td>11</td>\n",
       "      <td>13</td>\n",
       "    </tr>\n",
       "    <tr>\n",
       "      <th>Block2</th>\n",
       "      <td>17</td>\n",
       "      <td>14</td>\n",
       "      <td>8</td>\n",
       "    </tr>\n",
       "  </tbody>\n",
       "</table>\n",
       "</div>"
      ],
      "text/plain": [
       "         A   B   C\n",
       "Block1  13  21  18\n",
       "Block1  14  19  15\n",
       "Block1  12  17  15\n",
       "Block2  16  14  15\n",
       "Block2  18  11  13\n",
       "Block2  17  14   8"
      ]
     },
     "execution_count": 2,
     "metadata": {},
     "output_type": "execute_result"
    }
   ],
   "source": [
    "alpha=0.05\n",
    "n_blocks=2\n",
    "n_rows=6\n",
    "list_blocks=[]\n",
    "for i in range(1,n_blocks+1):\n",
    "    for j in range(1,int(n_rows/n_blocks)+1):\n",
    "        list_blocks.append('Block{}'.format(i))\n",
    "dic={'A':[13,14,12,16,18,17],'B':[21,19,17,14,11,14],'C':[18,15,15,15,13,8]}\n",
    "n_groups=len(dic)\n",
    "data=pd.DataFrame(dic,index=list_blocks)\n",
    "data"
   ]
  },
  {
   "cell_type": "markdown",
   "metadata": {},
   "source": [
    "## Block 1 means \"warm\", block 2 means \"cold\""
   ]
  },
  {
   "cell_type": "markdown",
   "metadata": {},
   "source": [
    "## Hypotheses:"
   ]
  },
  {
   "cell_type": "markdown",
   "metadata": {},
   "source": [
    "## Ho: all samples come from same population"
   ]
  },
  {
   "cell_type": "markdown",
   "metadata": {},
   "source": [
    "## H1: at least 1 sample comes from a different population"
   ]
  },
  {
   "cell_type": "markdown",
   "metadata": {},
   "source": [
    "## Calculations:"
   ]
  },
  {
   "cell_type": "code",
   "execution_count": 3,
   "metadata": {},
   "outputs": [
    {
     "name": "stdout",
     "output_type": "stream",
     "text": [
      "Result: Fail to reject Ho\n"
     ]
    }
   ],
   "source": [
    "columns=data.columns\n",
    "sample_mean=[]\n",
    "for i in range(n_blocks):\n",
    "    for j in range(n_groups):\n",
    "        sample_mean.append(np.mean(data[columns[j]].loc['Block{}'.format(i+1)]))\n",
    "col_mean=[]\n",
    "for k in range(len(data.columns)):\n",
    "    col_mean.append(np.mean(data.loc[:,data.columns[k]]))\n",
    "block_mean=[]\n",
    "for i in range(n_blocks):\n",
    "    block_mean.append(np.mean(np.mean(data.loc['Block{}'.format(i+1),:])))\n",
    "list_total=sample_mean+col_mean+block_mean\n",
    "over_mean=np.mean(list_total)\n",
    "SSB=0\n",
    "for k in range(n_blocks):\n",
    "    SSB=SSB+(block_mean[k]-over_mean)**2\n",
    "SSB=SSB*(n_rows/n_blocks*len(data.columns))\n",
    "SSC=0\n",
    "for k in range(len(data.columns)):\n",
    "    SSC=SSC+(col_mean[k]-over_mean)**2\n",
    "SSC=SSC*len(data)\n",
    "df_columns=n_groups-1\n",
    "block_m=[]\n",
    "for k in range(len(block_mean)):\n",
    "    for i in range(int(n_rows/n_blocks)):\n",
    "        block_m.append(block_mean[k])\n",
    "column_m=[]\n",
    "for k in range(n_blocks):\n",
    "    for i in range(len(col_mean)):\n",
    "        column_m.append(col_mean[i])\n",
    "SSI=0\n",
    "for i in range(len(sample_mean)):\n",
    "    SSI=SSI+(sample_mean[i]-block_m[i]-column_m[i]+over_mean)**2\n",
    "SSI=SSI*(n_rows/n_blocks)\n",
    "SST=0\n",
    "for i in range(len(data)):\n",
    "    for j in range(len(data.columns)):\n",
    "        SST=SST+(data.iloc[i,j]-over_mean)**2\n",
    "SSE=SST-SSB-SSC-SSI\n",
    "df_error=n_blocks*len(col_mean)*((n_rows/n_blocks)-1)\n",
    "F=(SSC/df_columns)/(SSE/df_error)\n",
    "F_critical=stats.f.ppf(1-alpha,dfn=df_columns,dfd=df_error)\n",
    "if F<F_critical:\n",
    "    print('Result: Fail to reject Ho')\n",
    "else:\n",
    "    print('Result: Reject Ho')"
   ]
  }
 ],
 "metadata": {
  "kernelspec": {
   "display_name": "Python 3",
   "language": "python",
   "name": "python3"
  },
  "language_info": {
   "codemirror_mode": {
    "name": "ipython",
    "version": 3
   },
   "file_extension": ".py",
   "mimetype": "text/x-python",
   "name": "python",
   "nbconvert_exporter": "python",
   "pygments_lexer": "ipython3",
   "version": "3.8.5"
  }
 },
 "nbformat": 4,
 "nbformat_minor": 4
}
