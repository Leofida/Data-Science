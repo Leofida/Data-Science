{
 "cells": [
  {
   "cell_type": "code",
   "execution_count": 1,
   "metadata": {},
   "outputs": [],
   "source": [
    "import pandas as pd\n",
    "import numpy as np\n",
    "import math\n",
    "from scipy.stats import binom,poisson,skewnorm,expon,ttest_1samp,ttest_ind,ttest_rel\n",
    "import scipy.stats as stats"
   ]
  },
  {
   "cell_type": "markdown",
   "metadata": {},
   "source": [
    "# Confidence interval for proportion"
   ]
  },
  {
   "cell_type": "markdown",
   "metadata": {},
   "source": [
    "### Input variables:"
   ]
  },
  {
   "cell_type": "code",
   "execution_count": 8,
   "metadata": {},
   "outputs": [],
   "source": [
    "alpha=0.10\n",
    "prop_sample=140/300\n",
    "n=300"
   ]
  },
  {
   "cell_type": "code",
   "execution_count": 9,
   "metadata": {},
   "outputs": [
    {
     "name": "stdout",
     "output_type": "stream",
     "text": [
      "Confidence interval: 90.0 % confidence:\n",
      "0.419 < mean < 0.514\n"
     ]
    }
   ],
   "source": [
    "q=1-prop_sample\n",
    "z_1_alpha_2=stats.norm.ppf(1-alpha/2)\n",
    "E=z_1_alpha_2*np.sqrt(prop_sample*q/n)\n",
    "print('Confidence interval: {} % confidence:'.format((1-alpha)*100))\n",
    "print('{} < mean < {}'.format(round(prop_sample-E,3),round(prop_sample+E,3)))"
   ]
  },
  {
   "cell_type": "markdown",
   "metadata": {},
   "source": [
    "## Sample size calculation: p unknown"
   ]
  },
  {
   "cell_type": "code",
   "execution_count": 10,
   "metadata": {},
   "outputs": [],
   "source": [
    "alpha=0.05\n",
    "Max_error=0.03"
   ]
  },
  {
   "cell_type": "code",
   "execution_count": 11,
   "metadata": {},
   "outputs": [
    {
     "name": "stdout",
     "output_type": "stream",
     "text": [
      "Sample size: 1068\n"
     ]
    }
   ],
   "source": [
    "z_1_alpha_2=stats.norm.ppf(1-alpha/2)\n",
    "size=math.ceil(z_1_alpha_2**2*0.25/(Max_error**2))\n",
    "print('Sample size: {}'.format(size))"
   ]
  },
  {
   "cell_type": "markdown",
   "metadata": {},
   "source": [
    "## Sample size calculation: p and q known"
   ]
  },
  {
   "cell_type": "code",
   "execution_count": 12,
   "metadata": {},
   "outputs": [],
   "source": [
    "alpha=0.05\n",
    "prop_sample=0.4\n",
    "Max_error=0.03"
   ]
  },
  {
   "cell_type": "code",
   "execution_count": 13,
   "metadata": {},
   "outputs": [
    {
     "name": "stdout",
     "output_type": "stream",
     "text": [
      "Sample size: 1025\n"
     ]
    }
   ],
   "source": [
    "q=1-prop_sample\n",
    "z_1_alpha_2=stats.norm.ppf(1-alpha/2)\n",
    "size=math.ceil(z_1_alpha_2**2*prop_sample*q/(Max_error**2))\n",
    "print('Sample size: {}'.format(size))"
   ]
  }
 ],
 "metadata": {
  "kernelspec": {
   "display_name": "Python 3",
   "language": "python",
   "name": "python3"
  },
  "language_info": {
   "codemirror_mode": {
    "name": "ipython",
    "version": 3
   },
   "file_extension": ".py",
   "mimetype": "text/x-python",
   "name": "python",
   "nbconvert_exporter": "python",
   "pygments_lexer": "ipython3",
   "version": "3.8.5"
  }
 },
 "nbformat": 4,
 "nbformat_minor": 4
}
