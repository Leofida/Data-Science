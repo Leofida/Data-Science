{
 "cells": [
  {
   "cell_type": "code",
   "execution_count": 1,
   "metadata": {},
   "outputs": [],
   "source": [
    "import pandas as pd\n",
    "import numpy as np\n",
    "import statistics as st\n",
    "import scipy.stats as stats\n",
    "from scipy.stats import chi2"
   ]
  },
  {
   "cell_type": "markdown",
   "metadata": {},
   "source": [
    "# Chi-square test: goodness of fit"
   ]
  },
  {
   "cell_type": "markdown",
   "metadata": {},
   "source": [
    "## Input variables:"
   ]
  },
  {
   "cell_type": "code",
   "execution_count": 2,
   "metadata": {},
   "outputs": [],
   "source": [
    "alpha=0.01\n",
    "obs_freq=[158,210,230,244,180,213,231]\n",
    "n_categories=len(obs_freq)\n",
    "exp_freq=sum(obs_freq)/n_categories"
   ]
  },
  {
   "cell_type": "markdown",
   "metadata": {},
   "source": [
    "## Hypotheses:"
   ]
  },
  {
   "cell_type": "markdown",
   "metadata": {},
   "source": [
    "### Ho: The frequency of observed values agrees with the claimed (expected) distribution\n",
    "### H1: At least one frequency of observed values does not agree with the claimed (expected) distribution"
   ]
  },
  {
   "cell_type": "markdown",
   "metadata": {},
   "source": [
    "### Calculations and result:"
   ]
  },
  {
   "cell_type": "code",
   "execution_count": 3,
   "metadata": {},
   "outputs": [
    {
     "name": "stdout",
     "output_type": "stream",
     "text": [
      "Result: Reject Ho\n"
     ]
    }
   ],
   "source": [
    "O_E=[]\n",
    "O_E_sq=[]\n",
    "O_E_sq_E=[]\n",
    "for i in range(len(obs_freq)):\n",
    "    O_E.append(obs_freq[i]-exp_freq)\n",
    "    O_E_sq.append(O_E[i]**2)\n",
    "    O_E_sq_E.append(O_E_sq[i]/exp_freq)\n",
    "chi_statistic=sum(O_E_sq_E)\n",
    "chi_critical=chi2.isf(alpha,n_categories-1)\n",
    "p=1-chi2.cdf(chi_statistic,n_categories-1)\n",
    "if chi_statistic>chi_critical:\n",
    "    print('Result: Reject Ho')\n",
    "else:\n",
    "    print('Result: Fail to reject Ho')"
   ]
  }
 ],
 "metadata": {
  "kernelspec": {
   "display_name": "Python 3",
   "language": "python",
   "name": "python3"
  },
  "language_info": {
   "codemirror_mode": {
    "name": "ipython",
    "version": 3
   },
   "file_extension": ".py",
   "mimetype": "text/x-python",
   "name": "python",
   "nbconvert_exporter": "python",
   "pygments_lexer": "ipython3",
   "version": "3.8.5"
  }
 },
 "nbformat": 4,
 "nbformat_minor": 4
}
