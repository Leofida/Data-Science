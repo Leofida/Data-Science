{
 "cells": [
  {
   "cell_type": "code",
   "execution_count": 1,
   "metadata": {},
   "outputs": [],
   "source": [
    "import pandas as pd\n",
    "import numpy as np\n",
    "import math\n",
    "from scipy.stats import binom,poisson,skewnorm,expon,ttest_1samp,ttest_ind,ttest_rel\n",
    "import scipy.stats as stats"
   ]
  },
  {
   "cell_type": "markdown",
   "metadata": {},
   "source": [
    "# Confidence interval for mean (population standard deviation known)"
   ]
  },
  {
   "cell_type": "markdown",
   "metadata": {},
   "source": [
    "### Input variables:"
   ]
  },
  {
   "cell_type": "code",
   "execution_count": 2,
   "metadata": {},
   "outputs": [],
   "source": [
    "alpha=0.01\n",
    "std_dev_pop=6.5\n",
    "n=104\n",
    "average_sample=95.3"
   ]
  },
  {
   "cell_type": "code",
   "execution_count": 3,
   "metadata": {},
   "outputs": [
    {
     "name": "stdout",
     "output_type": "stream",
     "text": [
      "Confidence interval: 99.0 % confidence:\n",
      "93.658 < mean < 96.942\n"
     ]
    }
   ],
   "source": [
    "z_1_alpha_2=stats.norm.ppf(1-alpha/2)\n",
    "E=z_1_alpha_2*std_dev_pop/(np.sqrt(n))\n",
    "print('Confidence interval: {} % confidence:'.format((1-alpha)*100))\n",
    "print('{} < mean < {}'.format(round(average_sample-E,3),round(average_sample+E,3)))"
   ]
  },
  {
   "cell_type": "markdown",
   "metadata": {},
   "source": [
    "## Sample size calculation:"
   ]
  },
  {
   "cell_type": "code",
   "execution_count": 4,
   "metadata": {},
   "outputs": [],
   "source": [
    "alpha=0.05\n",
    "std_dev_pop=60\n",
    "Max_error=2"
   ]
  },
  {
   "cell_type": "code",
   "execution_count": 5,
   "metadata": {},
   "outputs": [
    {
     "name": "stdout",
     "output_type": "stream",
     "text": [
      "Sample size: 3458\n"
     ]
    }
   ],
   "source": [
    "z_1_alpha_2=stats.norm.ppf(1-alpha/2)\n",
    "size=math.ceil((z_1_alpha_2*std_dev_pop/Max_error)**2)\n",
    "print('Sample size: {}'.format(size))"
   ]
  }
 ],
 "metadata": {
  "kernelspec": {
   "display_name": "Python 3",
   "language": "python",
   "name": "python3"
  },
  "language_info": {
   "codemirror_mode": {
    "name": "ipython",
    "version": 3
   },
   "file_extension": ".py",
   "mimetype": "text/x-python",
   "name": "python",
   "nbconvert_exporter": "python",
   "pygments_lexer": "ipython3",
   "version": "3.8.5"
  }
 },
 "nbformat": 4,
 "nbformat_minor": 4
}
