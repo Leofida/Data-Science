{
 "cells": [
  {
   "cell_type": "code",
   "execution_count": 1,
   "metadata": {},
   "outputs": [],
   "source": [
    "import pandas as pd\n",
    "import numpy as np\n",
    "import math\n",
    "import scipy.stats as stats"
   ]
  },
  {
   "cell_type": "markdown",
   "metadata": {},
   "source": [
    "# Confidence interval for mean (population standard deviation unknown)"
   ]
  },
  {
   "cell_type": "markdown",
   "metadata": {},
   "source": [
    "### Input variables:"
   ]
  },
  {
   "cell_type": "code",
   "execution_count": 2,
   "metadata": {},
   "outputs": [],
   "source": [
    "alpha=0.10\n",
    "std_dev_sample=4.43335839591913\n",
    "n=6\n",
    "average_sample=83.2333333333333"
   ]
  },
  {
   "cell_type": "code",
   "execution_count": 3,
   "metadata": {},
   "outputs": [
    {
     "name": "stdout",
     "output_type": "stream",
     "text": [
      "Confidence interval: 90.0 % confidence:\n",
      "79.586 < mean < 86.88\n"
     ]
    }
   ],
   "source": [
    "t_1_alpha_2=stats.t.ppf(1-alpha/2,n-1)\n",
    "E=t_1_alpha_2*std_dev_sample/(np.sqrt(n))\n",
    "print('Confidence interval: {} % confidence:'.format((1-alpha)*100))\n",
    "print('{} < mean < {}'.format(round(average_sample-E,3),round(average_sample+E,3)))"
   ]
  },
  {
   "cell_type": "markdown",
   "metadata": {},
   "source": [
    "## Sample size calculation:"
   ]
  },
  {
   "cell_type": "code",
   "execution_count": 4,
   "metadata": {},
   "outputs": [],
   "source": [
    "alpha=0.05\n",
    "std_dev_sample=0.88\n",
    "Max_error=0.02"
   ]
  },
  {
   "cell_type": "code",
   "execution_count": 6,
   "metadata": {
    "scrolled": true
   },
   "outputs": [
    {
     "name": "stdout",
     "output_type": "stream",
     "text": [
      "Sample size: 7366\n"
     ]
    }
   ],
   "source": [
    "size=2\n",
    "t_1_alpha_2=stats.t.ppf(1-alpha/2,size-1)\n",
    "E=t_1_alpha_2*std_dev_sample/(np.sqrt(size))\n",
    "error=abs(E-Max_error)\n",
    "while error>0.0001:\n",
    "    size+=1\n",
    "    t_1_alpha_2=stats.t.ppf(1-alpha/2,size-1)\n",
    "    E=t_1_alpha_2*std_dev_sample/(np.sqrt(size))\n",
    "    error=abs(E-Max_error)\n",
    "print('Sample size: {}'.format(size))"
   ]
  }
 ],
 "metadata": {
  "kernelspec": {
   "display_name": "Python 3",
   "language": "python",
   "name": "python3"
  },
  "language_info": {
   "codemirror_mode": {
    "name": "ipython",
    "version": 3
   },
   "file_extension": ".py",
   "mimetype": "text/x-python",
   "name": "python",
   "nbconvert_exporter": "python",
   "pygments_lexer": "ipython3",
   "version": "3.8.5"
  }
 },
 "nbformat": 4,
 "nbformat_minor": 4
}
