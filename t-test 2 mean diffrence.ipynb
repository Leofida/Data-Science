{
 "cells": [
  {
   "cell_type": "code",
   "execution_count": 1,
   "metadata": {},
   "outputs": [],
   "source": [
    "import pandas as pd\n",
    "import numpy as np\n",
    "import statistics as st\n",
    "from scipy.stats import binom,poisson,skewnorm,expon,ttest_1samp,ttest_ind,ttest_rel\n",
    "import scipy.stats as stats"
   ]
  },
  {
   "cell_type": "markdown",
   "metadata": {},
   "source": [
    "# t-test: for 2 mean difference (population standard deviation unknown)"
   ]
  },
  {
   "cell_type": "markdown",
   "metadata": {},
   "source": [
    "### Input variables:"
   ]
  },
  {
   "cell_type": "code",
   "execution_count": 2,
   "metadata": {},
   "outputs": [],
   "source": [
    "alpha=0.05\n",
    "sample_1_average=38\n",
    "sample_2_average=41\n",
    "n1=9\n",
    "n2=9\n",
    "var_1=12\n",
    "var_2=13"
   ]
  },
  {
   "cell_type": "code",
   "execution_count": 3,
   "metadata": {},
   "outputs": [],
   "source": [
    "df=((var_1/n1+var_2/n2)**2)/((1/(n1-1))*(var_1/n1)**2+(1/(n2-1))*(var_2/n2)**2)\n",
    "ttest=(sample_1_average-sample_2_average)/(np.sqrt(var_1/n1+var_2/n2))"
   ]
  },
  {
   "cell_type": "markdown",
   "metadata": {},
   "source": [
    "## Left tail test:"
   ]
  },
  {
   "cell_type": "code",
   "execution_count": 4,
   "metadata": {},
   "outputs": [
    {
     "name": "stdout",
     "output_type": "stream",
     "text": [
      "Ho: average_1 = 41\n",
      "H1: average_1 < 41\n"
     ]
    }
   ],
   "source": [
    "print('Ho: average_1 = {}'.format(round(sample_2_average,2)))\n",
    "print('H1: average_1 < {}'.format(round(sample_2_average,2)))"
   ]
  },
  {
   "cell_type": "code",
   "execution_count": 5,
   "metadata": {},
   "outputs": [
    {
     "name": "stdout",
     "output_type": "stream",
     "text": [
      "Result: Reject Ho\n"
     ]
    }
   ],
   "source": [
    "talpha=stats.t.ppf(alpha,df)\n",
    "pvalue_left=stats.t.cdf(ttest,df)\n",
    "if ttest<talpha:\n",
    "    print('Result: Reject Ho')\n",
    "else:\n",
    "    print('Result: Fail to reject Ho')"
   ]
  },
  {
   "cell_type": "markdown",
   "metadata": {},
   "source": [
    "## Right tail test:"
   ]
  },
  {
   "cell_type": "code",
   "execution_count": 6,
   "metadata": {},
   "outputs": [
    {
     "name": "stdout",
     "output_type": "stream",
     "text": [
      "Ho: average_1 = 41\n",
      "H1: average_1 > 41\n"
     ]
    }
   ],
   "source": [
    "print('Ho: average_1 = {}'.format(round(sample_2_average,2)))\n",
    "print('H1: average_1 > {}'.format(round(sample_2_average,2)))"
   ]
  },
  {
   "cell_type": "code",
   "execution_count": 7,
   "metadata": {},
   "outputs": [
    {
     "name": "stdout",
     "output_type": "stream",
     "text": [
      "Result: Fail to reject Ho\n"
     ]
    }
   ],
   "source": [
    "t1_alpha=stats.t.ppf(1-alpha,df)\n",
    "pvalue_right=1-stats.t.cdf(ttest,df)\n",
    "if ttest>t1_alpha:\n",
    "    print('Result: Reject Ho')\n",
    "else:\n",
    "    print('Result: Fail to reject Ho')"
   ]
  },
  {
   "cell_type": "markdown",
   "metadata": {},
   "source": [
    "## Two tail test:"
   ]
  },
  {
   "cell_type": "code",
   "execution_count": 8,
   "metadata": {},
   "outputs": [
    {
     "name": "stdout",
     "output_type": "stream",
     "text": [
      "Ho: average_1 = 41\n",
      "H1: average_1 <> 41\n"
     ]
    }
   ],
   "source": [
    "print('Ho: average_1 = {}'.format(round(sample_2_average,2)))\n",
    "print('H1: average_1 <> {}'.format(round(sample_2_average,2)))"
   ]
  },
  {
   "cell_type": "code",
   "execution_count": 9,
   "metadata": {},
   "outputs": [
    {
     "name": "stdout",
     "output_type": "stream",
     "text": [
      "Result: Fail to reject Ho\n"
     ]
    }
   ],
   "source": [
    "talpha_2=stats.t.ppf(alpha/2,df)\n",
    "t_1_alpha_2=stats.t.ppf(1-alpha/2,df)\n",
    "if ttest<talpha_2 or ttest>t_1_alpha_2:\n",
    "    print('Result: Reject Ho')\n",
    "else:\n",
    "    print('Result: Fail to reject Ho')"
   ]
  }
 ],
 "metadata": {
  "kernelspec": {
   "display_name": "Python 3",
   "language": "python",
   "name": "python3"
  },
  "language_info": {
   "codemirror_mode": {
    "name": "ipython",
    "version": 3
   },
   "file_extension": ".py",
   "mimetype": "text/x-python",
   "name": "python",
   "nbconvert_exporter": "python",
   "pygments_lexer": "ipython3",
   "version": "3.8.5"
  }
 },
 "nbformat": 4,
 "nbformat_minor": 4
}
