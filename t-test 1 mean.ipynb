{
 "cells": [
  {
   "cell_type": "code",
   "execution_count": 1,
   "metadata": {},
   "outputs": [],
   "source": [
    "import pandas as pd\n",
    "import numpy as np\n",
    "import statistics as st\n",
    "from scipy.stats import binom,poisson,skewnorm,expon,ttest_1samp,ttest_ind,ttest_rel\n",
    "import scipy.stats as stats"
   ]
  },
  {
   "cell_type": "markdown",
   "metadata": {},
   "source": [
    "# t-test: for 1 mean (population standard deviation unknown)"
   ]
  },
  {
   "cell_type": "markdown",
   "metadata": {},
   "source": [
    "### Input variables:"
   ]
  },
  {
   "cell_type": "code",
   "execution_count": 2,
   "metadata": {},
   "outputs": [],
   "source": [
    "alpha=0.05\n",
    "mean_ref=2.345\n",
    "std_dev_sample=0.4\n",
    "n=25\n",
    "average_sample=2.4"
   ]
  },
  {
   "cell_type": "code",
   "execution_count": 3,
   "metadata": {},
   "outputs": [],
   "source": [
    "ttest=(average_sample-mean_ref)/(std_dev_sample/np.sqrt(n))"
   ]
  },
  {
   "cell_type": "markdown",
   "metadata": {},
   "source": [
    "## Left tail test:"
   ]
  },
  {
   "cell_type": "code",
   "execution_count": 4,
   "metadata": {},
   "outputs": [
    {
     "name": "stdout",
     "output_type": "stream",
     "text": [
      "Ho: mean = 2.35\n",
      "H1: mean < 2.35\n"
     ]
    }
   ],
   "source": [
    "print('Ho: mean = {}'.format(round(mean_ref,2)))\n",
    "print('H1: mean < {}'.format(round(mean_ref,2)))"
   ]
  },
  {
   "cell_type": "code",
   "execution_count": 5,
   "metadata": {},
   "outputs": [
    {
     "name": "stdout",
     "output_type": "stream",
     "text": [
      "Result: Fail to reject Ho\n"
     ]
    }
   ],
   "source": [
    "talpha=stats.t.ppf(alpha,n-1)\n",
    "pvalue_left=stats.t.cdf(ttest,n-1)\n",
    "if ttest<talpha:\n",
    "    print('Result: Reject Ho')\n",
    "else:\n",
    "    print('Result: Fail to reject Ho')"
   ]
  },
  {
   "cell_type": "markdown",
   "metadata": {},
   "source": [
    "## Right tail test:"
   ]
  },
  {
   "cell_type": "code",
   "execution_count": 6,
   "metadata": {},
   "outputs": [
    {
     "name": "stdout",
     "output_type": "stream",
     "text": [
      "Ho: mean = 2.35\n",
      "H1: mean > 2.35\n"
     ]
    }
   ],
   "source": [
    "print('Ho: mean = {}'.format(round(mean_ref,2)))\n",
    "print('H1: mean > {}'.format(round(mean_ref,2)))"
   ]
  },
  {
   "cell_type": "code",
   "execution_count": 7,
   "metadata": {},
   "outputs": [
    {
     "name": "stdout",
     "output_type": "stream",
     "text": [
      "Result: Fail to reject Ho\n"
     ]
    }
   ],
   "source": [
    "t1_alpha=stats.t.ppf(1-alpha,n-1)\n",
    "pvalue_right=1-stats.t.cdf(ttest,n-1)\n",
    "if ttest>t1_alpha:\n",
    "    print('Result: Reject Ho')\n",
    "else:\n",
    "    print('Result: Fail to reject Ho')"
   ]
  },
  {
   "cell_type": "markdown",
   "metadata": {},
   "source": [
    "## Two tail test:"
   ]
  },
  {
   "cell_type": "code",
   "execution_count": 8,
   "metadata": {},
   "outputs": [
    {
     "name": "stdout",
     "output_type": "stream",
     "text": [
      "Ho: mean = 2.35\n",
      "H1: mean <> 2.35\n"
     ]
    }
   ],
   "source": [
    "print('Ho: mean = {}'.format(round(mean_ref,2)))\n",
    "print('H1: mean <> {}'.format(round(mean_ref,2)))"
   ]
  },
  {
   "cell_type": "code",
   "execution_count": 9,
   "metadata": {},
   "outputs": [
    {
     "name": "stdout",
     "output_type": "stream",
     "text": [
      "Result: Fail to reject Ho\n"
     ]
    }
   ],
   "source": [
    "talpha_2=stats.t.ppf(alpha/2,n-1)\n",
    "t_1_alpha_2=stats.t.ppf(1-alpha/2,n-1)\n",
    "pvalue_two=2*(1-stats.t.cdf(ttest,n-1))\n",
    "if ttest<talpha_2 or ttest>t_1_alpha_2:\n",
    "    print('Result: Reject Ho')\n",
    "else:\n",
    "    print('Result: Fail to reject Ho')"
   ]
  }
 ],
 "metadata": {
  "kernelspec": {
   "display_name": "Python 3",
   "language": "python",
   "name": "python3"
  },
  "language_info": {
   "codemirror_mode": {
    "name": "ipython",
    "version": 3
   },
   "file_extension": ".py",
   "mimetype": "text/x-python",
   "name": "python",
   "nbconvert_exporter": "python",
   "pygments_lexer": "ipython3",
   "version": "3.8.5"
  }
 },
 "nbformat": 4,
 "nbformat_minor": 4
}
