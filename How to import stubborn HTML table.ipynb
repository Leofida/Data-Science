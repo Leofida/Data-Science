{
 "cells": [
  {
   "cell_type": "code",
   "execution_count": 1,
   "metadata": {},
   "outputs": [],
   "source": [
    "import pandas as pd"
   ]
  },
  {
   "cell_type": "code",
   "execution_count": 2,
   "metadata": {},
   "outputs": [],
   "source": [
    "import requests\n",
    "url = \"https://www.worldometers.info/world-population/world-population-by-year/\"\n",
    "header = {\n",
    "  \"User-Agent\": \"Mozilla/5.0 (X11; Linux x86_64) AppleWebKit/537.36 (KHTML, like Gecko) Chrome/50.0.2661.75 Safari/537.36\",\n",
    "  \"X-Requested-With\": \"XMLHttpRequest\"\n",
    "}\n",
    "r = requests.get(url, headers=header)\n",
    "data = pd.read_html(r.text)\n",
    "data=data[0]"
   ]
  },
  {
   "cell_type": "code",
   "execution_count": 3,
   "metadata": {},
   "outputs": [
    {
     "data": {
      "text/html": [
       "<div>\n",
       "<style scoped>\n",
       "    .dataframe tbody tr th:only-of-type {\n",
       "        vertical-align: middle;\n",
       "    }\n",
       "\n",
       "    .dataframe tbody tr th {\n",
       "        vertical-align: top;\n",
       "    }\n",
       "\n",
       "    .dataframe thead th {\n",
       "        text-align: right;\n",
       "    }\n",
       "</style>\n",
       "<table border=\"1\" class=\"dataframe\">\n",
       "  <thead>\n",
       "    <tr style=\"text-align: right;\">\n",
       "      <th></th>\n",
       "      <th>Year</th>\n",
       "      <th>World Population</th>\n",
       "      <th>YearlyChange</th>\n",
       "      <th>NetChange</th>\n",
       "      <th>Density(P/Km²)</th>\n",
       "      <th>UrbanPop</th>\n",
       "      <th>UrbanPop %</th>\n",
       "    </tr>\n",
       "  </thead>\n",
       "  <tbody>\n",
       "    <tr>\n",
       "      <th>0</th>\n",
       "      <td>2020</td>\n",
       "      <td>7794798739</td>\n",
       "      <td>1.05 %</td>\n",
       "      <td>81330639.0</td>\n",
       "      <td>52.0</td>\n",
       "      <td>4.378994e+09</td>\n",
       "      <td>56 %</td>\n",
       "    </tr>\n",
       "    <tr>\n",
       "      <th>1</th>\n",
       "      <td>2019</td>\n",
       "      <td>7713468100</td>\n",
       "      <td>1.08 %</td>\n",
       "      <td>82377060.0</td>\n",
       "      <td>52.0</td>\n",
       "      <td>4.299439e+09</td>\n",
       "      <td>56 %</td>\n",
       "    </tr>\n",
       "    <tr>\n",
       "      <th>2</th>\n",
       "      <td>2018</td>\n",
       "      <td>7631091040</td>\n",
       "      <td>1.10 %</td>\n",
       "      <td>83232115.0</td>\n",
       "      <td>51.0</td>\n",
       "      <td>4.219817e+09</td>\n",
       "      <td>55 %</td>\n",
       "    </tr>\n",
       "    <tr>\n",
       "      <th>3</th>\n",
       "      <td>2017</td>\n",
       "      <td>7547858925</td>\n",
       "      <td>1.12 %</td>\n",
       "      <td>83836876.0</td>\n",
       "      <td>51.0</td>\n",
       "      <td>4.140189e+09</td>\n",
       "      <td>55 %</td>\n",
       "    </tr>\n",
       "    <tr>\n",
       "      <th>4</th>\n",
       "      <td>2016</td>\n",
       "      <td>7464022049</td>\n",
       "      <td>1.14 %</td>\n",
       "      <td>84224910.0</td>\n",
       "      <td>50.0</td>\n",
       "      <td>4.060653e+09</td>\n",
       "      <td>54 %</td>\n",
       "    </tr>\n",
       "  </tbody>\n",
       "</table>\n",
       "</div>"
      ],
      "text/plain": [
       "   Year  World Population YearlyChange   NetChange  Density(P/Km²)  \\\n",
       "0  2020        7794798739       1.05 %  81330639.0            52.0   \n",
       "1  2019        7713468100       1.08 %  82377060.0            52.0   \n",
       "2  2018        7631091040       1.10 %  83232115.0            51.0   \n",
       "3  2017        7547858925       1.12 %  83836876.0            51.0   \n",
       "4  2016        7464022049       1.14 %  84224910.0            50.0   \n",
       "\n",
       "       UrbanPop UrbanPop %  \n",
       "0  4.378994e+09       56 %  \n",
       "1  4.299439e+09       56 %  \n",
       "2  4.219817e+09       55 %  \n",
       "3  4.140189e+09       55 %  \n",
       "4  4.060653e+09       54 %  "
      ]
     },
     "execution_count": 3,
     "metadata": {},
     "output_type": "execute_result"
    }
   ],
   "source": [
    "data.head()"
   ]
  }
 ],
 "metadata": {
  "kernelspec": {
   "display_name": "Python 3",
   "language": "python",
   "name": "python3"
  },
  "language_info": {
   "codemirror_mode": {
    "name": "ipython",
    "version": 3
   },
   "file_extension": ".py",
   "mimetype": "text/x-python",
   "name": "python",
   "nbconvert_exporter": "python",
   "pygments_lexer": "ipython3",
   "version": "3.8.5"
  }
 },
 "nbformat": 4,
 "nbformat_minor": 4
}
