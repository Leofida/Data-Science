{
 "cells": [
  {
   "cell_type": "code",
   "execution_count": 1,
   "metadata": {},
   "outputs": [],
   "source": [
    "import pandas as pd\n",
    "import numpy as np\n",
    "import statistics as st\n",
    "import scipy.stats as stats"
   ]
  },
  {
   "cell_type": "markdown",
   "metadata": {},
   "source": [
    "# ANOVA SINGLE FACTOR - ANALYSIS OF VARIANCE"
   ]
  },
  {
   "cell_type": "markdown",
   "metadata": {},
   "source": [
    "## Input variables:"
   ]
  },
  {
   "cell_type": "code",
   "execution_count": 2,
   "metadata": {},
   "outputs": [],
   "source": [
    "alpha=0.05\n",
    "n_groups=3\n",
    "A=[37,60,52,43,40,52,55,39,39,23]\n",
    "B=[62,27,69,64,43,54,44,31,49,57]\n",
    "C=[50,63,58,54,49,52,53,43,65,43]"
   ]
  },
  {
   "cell_type": "markdown",
   "metadata": {},
   "source": [
    "## Hypotheses:\n",
    "## Ho: all samples come from same population\n",
    "## H1: at least 1 sample comes from a different population"
   ]
  },
  {
   "cell_type": "markdown",
   "metadata": {},
   "source": [
    "## Calculations:"
   ]
  },
  {
   "cell_type": "code",
   "execution_count": 3,
   "metadata": {},
   "outputs": [
    {
     "name": "stdout",
     "output_type": "stream",
     "text": [
      "Result: Fail to reject Ho\n"
     ]
    }
   ],
   "source": [
    "mean=[st.mean(A),st.mean(B),st.mean(C)]\n",
    "over_mean=st.mean(mean)\n",
    "SSG=0\n",
    "for i in range(len(mean)):\n",
    "    SSG=SSG+(mean[i]-over_mean)**2\n",
    "SSG=SSG*len(A)\n",
    "df_groups=len(mean)-1\n",
    "SSE_A=0\n",
    "SSE_B=0\n",
    "SSE_C=0\n",
    "for j in range(len(A)):\n",
    "    SSE_A=SSE_A+(A[j]-st.mean(A))**2\n",
    "    SSE_B=SSE_B+(B[j]-st.mean(B))**2\n",
    "    SSE_C=SSE_C+(C[j]-st.mean(C))**2\n",
    "SSE=SSE_A+SSE_B+SSE_C\n",
    "df_error=(len(A)-1)*n_groups\n",
    "F=(SSG/df_groups)/(SSE/df_error)\n",
    "F_critical=stats.f.ppf(1-alpha,dfn=df_groups,dfd=df_error)\n",
    "if F<F_critical:\n",
    "    print('Result: Fail to reject Ho')\n",
    "else:\n",
    "    print('Result: Reject Ho')"
   ]
  }
 ],
 "metadata": {
  "kernelspec": {
   "display_name": "Python 3",
   "language": "python",
   "name": "python3"
  },
  "language_info": {
   "codemirror_mode": {
    "name": "ipython",
    "version": 3
   },
   "file_extension": ".py",
   "mimetype": "text/x-python",
   "name": "python",
   "nbconvert_exporter": "python",
   "pygments_lexer": "ipython3",
   "version": "3.8.5"
  }
 },
 "nbformat": 4,
 "nbformat_minor": 4
}
